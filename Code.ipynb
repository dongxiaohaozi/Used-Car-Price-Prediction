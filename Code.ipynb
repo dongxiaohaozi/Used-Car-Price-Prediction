{
 "cells": [
  {
   "cell_type": "code",
   "execution_count": 1,
   "id": "2c25eebf",
   "metadata": {},
   "outputs": [],
   "source": [
    "import pandas as pd\n",
    "import numpy as np\n",
    "from sklearn import tree\n",
    "from sklearn.tree import DecisionTreeClassifier \n",
    "import matplotlib.pyplot as plt\n",
    "from sklearn.preprocessing import LabelEncoder, StandardScaler\n",
    "df=pd.read_csv('vehicles.csv')"
   ]
  },
  {
   "cell_type": "code",
   "execution_count": 2,
   "id": "ccd24a0a",
   "metadata": {},
   "outputs": [],
   "source": [
    "#impute missing data \n",
    "df['year'].fillna(df['year'].median(), inplace=True)\n",
    "df['cylinders'].fillna(df['cylinders'].mode()[0], inplace=True)\n",
    "df['odometer'].fillna(df['odometer'].median(), inplace=True)\n",
    "df['model'].fillna(df['model'].mode()[0],  inplace=True)\n",
    "df['type'].fillna(df['type'].mode()[0],  inplace=True)\n",
    "df['manufacturer'].fillna(df['manufacturer'].mode()[0],  inplace=True)\n",
    "df = df.sort_values(by='model')\n",
    "\n",
    "# label_encoder object\n",
    "label_encoder =LabelEncoder()\n",
    "\n",
    "# Encode labels in column. \n",
    "df['Model']= label_encoder.fit_transform(df['model'])\n",
    "df['Type']= label_encoder.fit_transform(df['type'])\n",
    "df['Manufacturer']= label_encoder.fit_transform(df['manufacturer'])\n",
    "df['Region']= label_encoder.fit_transform(df['region'])\n",
    "df['Size']= label_encoder.fit_transform(df['size'])\n",
    "\n",
    "# Drop outliers of price\n",
    "df=df[(df.price<250000)]"
   ]
  },
  {
   "cell_type": "code",
   "execution_count": null,
   "id": "7fcffdd8",
   "metadata": {},
   "outputs": [],
   "source": [
    "# Drop the price values equal to 0\n",
    "for r in df.index:\n",
    "  if df.loc[r, \"price\"] == 0:\n",
    "     df.drop(r, inplace = True)"
   ]
  },
  {
   "cell_type": "code",
   "execution_count": 3,
   "id": "8512f1bd",
   "metadata": {},
   "outputs": [],
   "source": [
    "from sklearn.model_selection import train_test_split\n",
    "# Choose X and y \n",
    "X=df.filter(['year', 'Model', 'odometer' ])\n",
    "y=df.filter(['price'])\n",
    "# standardize X values\n",
    "sc=StandardScaler()\n",
    "X=sc.fit_transform(X)\n",
    "#Split data into test set and train set\n",
    "X_train,X_test,y_train,y_test=train_test_split(X,y,test_size=0.20,random_state=9047)"
   ]
  },
  {
   "cell_type": "code",
   "execution_count": 37,
   "id": "6b1125dc",
   "metadata": {},
   "outputs": [],
   "source": [
    "# KNN model\n",
    "from sklearn.neighbors import KNeighborsRegressor\n",
    "error_list=[]\n",
    "for i in range(1,10):\n",
    "    knn=KNeighborsRegressor(n_neighbors=i)\n",
    "    knn.fit(X_train,y_train)\n",
    "    y_pred=knn.predict(X_test)\n",
    "    error=np.sqrt(mean_squared_log_error(y_test, y_pred))\n",
    "    error_list.append(error)\n",
    "    "
   ]
  },
  {
   "cell_type": "code",
   "execution_count": 40,
   "id": "b608990c",
   "metadata": {},
   "outputs": [
    {
     "data": {
      "image/png": "[encoded data removed]",
      "text/plain": [
       "<Figure size 432x288 with 1 Axes>"
      ]
     },
     "metadata": {
      "needs_background": "light"
     },
     "output_type": "display_data"
    }
   ],
   "source": [
    "# Plot the error curve to choose the best K value\n",
    "plt.xticks( rotation='horizontal')\n",
    "plt.plot(list(range(1,10)),error_list)\n",
    "plt.xlabel('K')\n",
    "plt.ylabel('MSLE')\n",
    "plt.title('Root MSLE for Each K')\n",
    "plt.show()"
   ]
  },
  {
   "cell_type": "code",
   "execution_count": 41,
   "id": "5ccf7d84",
   "metadata": {},
   "outputs": [
    {
     "name": "stdout",
     "output_type": "stream",
     "text": [
      " training data R2 Score: 0.8936115173827675\n",
      " testing data R2 Score: 0.6326899351379331\n"
     ]
    }
   ],
   "source": [
    "knn=KNeighborsRegressor(n_neighbors=2) \n",
    "knn.fit(X_train,y_train)\n",
    "print(\" training data R2 Score: {}\".format(knn.score(X_train, y_train))) \n",
    "print(\" testing data R2 Score: {}\".format(knn.score(X_test, y_test))) "
   ]
  },
  {
   "cell_type": "code",
   "execution_count": null,
   "id": "96e7dd7c",
   "metadata": {},
   "outputs": [],
   "source": [
    "score=[]"
   ]
  },
  {
   "cell_type": "code",
   "execution_count": 7,
   "id": "176a3825",
   "metadata": {},
   "outputs": [
    {
     "name": "stdout",
     "output_type": "stream",
     "text": [
      " training data R2 Score: 0.7813658864761359\n",
      " testing data R2 Score: 0.6868076335229607\n"
     ]
    }
   ],
   "source": [
    "# Random Forest model\n",
    "from sklearn.ensemble import RandomForestRegressor\n",
    "rfr = RandomForestRegressor(n_estimators=200,random_state=60, min_samples_leaf=1, max_features=0.5, n_jobs=-1, oob_score=True)\n",
    "rfr.fit(X_train,y_train.values.ravel())\n",
    "print(\" training data R2 Score: {}\".format(rfr.score(X_train, y_train))) \n",
    "print(\" testing data R2 Score: {}\".format(rfr.score(X_test, y_test))) "
   ]
  },
  {
   "cell_type": "code",
   "execution_count": 8,
   "id": "0c14dc87",
   "metadata": {},
   "outputs": [
    {
     "name": "stdout",
     "output_type": "stream",
     "text": [
      " training data R2 Score: 0.9554947350549761\n",
      " testing data R2 Score: 0.7494949338466863\n"
     ]
    }
   ],
   "source": [
    "# Decision Tree model\n",
    "from sklearn.tree import DecisionTreeRegressor\n",
    "from sklearn.ensemble import BaggingRegressor\n",
    "bagg=BaggingRegressor(base_estimator=DecisionTreeRegressor(max_depth=40),n_estimators= 200, random_state=1)                        \n",
    "bagg.fit(X_train,y_train.values.ravel())\n",
    "print(\" training data R2 Score: {}\".format(bagg.score(X_train, y_train))) \n",
    "print(\" testing data R2 Score: {}\".format(bagg.score(X_test, y_test)))"
   ]
  },
  {
   "cell_type": "code",
   "execution_count": 9,
   "id": "2e5141c3",
   "metadata": {},
   "outputs": [
    {
     "name": "stdout",
     "output_type": "stream",
     "text": [
      " training data R2 Score: 0.9837912017855271\n",
      " testing data R2 Score: 0.7215246748713857\n"
     ]
    }
   ],
   "source": [
    "# AdaBoost model\n",
    "from sklearn.ensemble import AdaBoostRegressor\n",
    "ada = AdaBoostRegressor(DecisionTreeRegressor(max_depth=40),n_estimators=200,learning_rate=0.05)\n",
    "ada.fit(X_train, y_train.values.ravel())\n",
    "print(\" training data R2 Score: {}\".format(ada.score(X_train, y_train))) \n",
    "print(\" testing data R2 Score: {}\".format(ada.score(X_test, y_test)))"
   ]
  },
  {
   "cell_type": "code",
   "execution_count": 10,
   "id": "cb4e1d50",
   "metadata": {},
   "outputs": [
    {
     "name": "stdout",
     "output_type": "stream",
     "text": [
      " training data R2 Score: 0.9860764996824636\n",
      " testing data R2 Score: 0.7355839846793026\n"
     ]
    }
   ],
   "source": [
    "# XGboost model\n",
    "import xgboost as xgb\n",
    "xg = xgb.XGBRegressor(objective ='reg:squarederror', learning_rate = 0.05,max_depth = 40, alpha = 5, n_estimators = 200)\n",
    "xg.fit(X_train,y_train)\n",
    "#y_pred_1=remove_neg(y_pred)\n",
    "print(\" training data R2 Score: {}\".format(xg.score(X_train, y_train))) \n",
    "print(\" testing data R2 Score: {}\".format(xg.score(X_test, y_test)))"
   ]
  },
  {
   "cell_type": "code",
   "execution_count": null,
   "id": "de0a2f1c",
   "metadata": {},
   "outputs": [],
   "source": []
  }
 ],
 "metadata": {
  "kernelspec": {
   "display_name": "Python 3 (ipykernel)",
   "language": "python",
   "name": "python3"
  },
  "language_info": {
   "codemirror_mode": {
    "name": "ipython",
    "version": 3
   },
   "file_extension": ".py",
   "mimetype": "text/x-python",
   "name": "python",
   "nbconvert_exporter": "python",
   "pygments_lexer": "ipython3",
   "version": "3.9.7"
  }
 },
 "nbformat": 4,
 "nbformat_minor": 5
}
